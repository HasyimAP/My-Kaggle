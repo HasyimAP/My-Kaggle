{
 "cells": [
  {
   "cell_type": "markdown",
   "id": "f0cc21d3",
   "metadata": {
    "papermill": {
     "duration": 0.009262,
     "end_time": "2023-11-10T23:00:45.620704",
     "exception": false,
     "start_time": "2023-11-10T23:00:45.611442",
     "status": "completed"
    },
    "tags": []
   },
   "source": [
    "# Dataset Information\n",
    "\n",
    "This is a transnational data set which contains all the transactions occurring between 01/12/2010 and 09/12/2011 for a UK-based and registered non-store online retail.The company mainly sells unique all-occasion gifts. Many customers of the company are wholesalers.\n",
    "\n",
    "1. InvoiceNo: Invoice number. Nominal, a 6-digit integral number uniquely assigned to each transaction. If this code starts with letter 'C', it indicates a cancellation. \n",
    "2. StockCode: Product (item) code. Nominal, a 5-digit integral number uniquely assigned to each distinct product.\n",
    "3. Description: Product (item) name. Nominal.\n",
    "4. Quantity: The quantities of each product (item) per transaction. Numeric.\t\n",
    "5. InvoiceDate: Invoice Date and time. Numeric, the day and time when each transaction was generated.\n",
    "6. UnitPrice: Unit price. Numeric, Product price per unit in sterling.\n",
    "7. CustomerID: Customer number. Nominal, a 5-digit integral number uniquely assigned to each customer.\n",
    "8. Country: Country name. Nominal, the name of the country where each customer resides. "
   ]
  },
  {
   "cell_type": "markdown",
   "id": "8efd9e48",
   "metadata": {
    "papermill": {
     "duration": 0.009163,
     "end_time": "2023-11-10T23:00:45.638600",
     "exception": false,
     "start_time": "2023-11-10T23:00:45.629437",
     "status": "completed"
    },
    "tags": []
   },
   "source": [
    "# Import Necessary Modules"
   ]
  },
  {
   "cell_type": "code",
   "execution_count": 1,
   "id": "c9b1f990",
   "metadata": {
    "execution": {
     "iopub.execute_input": "2023-11-10T23:00:45.659809Z",
     "iopub.status.busy": "2023-11-10T23:00:45.659306Z",
     "iopub.status.idle": "2023-11-10T23:00:45.979663Z",
     "shell.execute_reply": "2023-11-10T23:00:45.978720Z"
    },
    "papermill": {
     "duration": 0.333153,
     "end_time": "2023-11-10T23:00:45.981946",
     "exception": false,
     "start_time": "2023-11-10T23:00:45.648793",
     "status": "completed"
    },
    "tags": []
   },
   "outputs": [],
   "source": [
    "import numpy as np\n",
    "import pandas as pd\n",
    "import matplotlib.pyplot as plt"
   ]
  },
  {
   "cell_type": "markdown",
   "id": "1760b69a",
   "metadata": {
    "papermill": {
     "duration": 0.008521,
     "end_time": "2023-11-10T23:00:45.999772",
     "exception": false,
     "start_time": "2023-11-10T23:00:45.991251",
     "status": "completed"
    },
    "tags": []
   },
   "source": [
    "# Check Dataset"
   ]
  },
  {
   "cell_type": "code",
   "execution_count": 2,
   "id": "457c0d29",
   "metadata": {
    "_kg_hide-input": false,
    "execution": {
     "iopub.execute_input": "2023-11-10T23:00:46.019130Z",
     "iopub.status.busy": "2023-11-10T23:00:46.018650Z",
     "iopub.status.idle": "2023-11-10T23:00:47.072220Z",
     "shell.execute_reply": "2023-11-10T23:00:47.070905Z"
    },
    "papermill": {
     "duration": 1.065925,
     "end_time": "2023-11-10T23:00:47.074647",
     "exception": false,
     "start_time": "2023-11-10T23:00:46.008722",
     "status": "completed"
    },
    "tags": []
   },
   "outputs": [
    {
     "data": {
      "text/html": [
       "<div>\n",
       "<style scoped>\n",
       "    .dataframe tbody tr th:only-of-type {\n",
       "        vertical-align: middle;\n",
       "    }\n",
       "\n",
       "    .dataframe tbody tr th {\n",
       "        vertical-align: top;\n",
       "    }\n",
       "\n",
       "    .dataframe thead th {\n",
       "        text-align: right;\n",
       "    }\n",
       "</style>\n",
       "<table border=\"1\" class=\"dataframe\">\n",
       "  <thead>\n",
       "    <tr style=\"text-align: right;\">\n",
       "      <th></th>\n",
       "      <th>InvoiceNo</th>\n",
       "      <th>StockCode</th>\n",
       "      <th>Description</th>\n",
       "      <th>Quantity</th>\n",
       "      <th>InvoiceDate</th>\n",
       "      <th>UnitPrice</th>\n",
       "      <th>CustomerID</th>\n",
       "      <th>Country</th>\n",
       "    </tr>\n",
       "  </thead>\n",
       "  <tbody>\n",
       "    <tr>\n",
       "      <th>0</th>\n",
       "      <td>536365</td>\n",
       "      <td>85123A</td>\n",
       "      <td>WHITE HANGING HEART T-LIGHT HOLDER</td>\n",
       "      <td>6</td>\n",
       "      <td>12/1/2010 8:26</td>\n",
       "      <td>2.55</td>\n",
       "      <td>17850.0</td>\n",
       "      <td>United Kingdom</td>\n",
       "    </tr>\n",
       "    <tr>\n",
       "      <th>1</th>\n",
       "      <td>536365</td>\n",
       "      <td>71053</td>\n",
       "      <td>WHITE METAL LANTERN</td>\n",
       "      <td>6</td>\n",
       "      <td>12/1/2010 8:26</td>\n",
       "      <td>3.39</td>\n",
       "      <td>17850.0</td>\n",
       "      <td>United Kingdom</td>\n",
       "    </tr>\n",
       "    <tr>\n",
       "      <th>2</th>\n",
       "      <td>536365</td>\n",
       "      <td>84406B</td>\n",
       "      <td>CREAM CUPID HEARTS COAT HANGER</td>\n",
       "      <td>8</td>\n",
       "      <td>12/1/2010 8:26</td>\n",
       "      <td>2.75</td>\n",
       "      <td>17850.0</td>\n",
       "      <td>United Kingdom</td>\n",
       "    </tr>\n",
       "    <tr>\n",
       "      <th>3</th>\n",
       "      <td>536365</td>\n",
       "      <td>84029G</td>\n",
       "      <td>KNITTED UNION FLAG HOT WATER BOTTLE</td>\n",
       "      <td>6</td>\n",
       "      <td>12/1/2010 8:26</td>\n",
       "      <td>3.39</td>\n",
       "      <td>17850.0</td>\n",
       "      <td>United Kingdom</td>\n",
       "    </tr>\n",
       "    <tr>\n",
       "      <th>4</th>\n",
       "      <td>536365</td>\n",
       "      <td>84029E</td>\n",
       "      <td>RED WOOLLY HOTTIE WHITE HEART.</td>\n",
       "      <td>6</td>\n",
       "      <td>12/1/2010 8:26</td>\n",
       "      <td>3.39</td>\n",
       "      <td>17850.0</td>\n",
       "      <td>United Kingdom</td>\n",
       "    </tr>\n",
       "    <tr>\n",
       "      <th>...</th>\n",
       "      <td>...</td>\n",
       "      <td>...</td>\n",
       "      <td>...</td>\n",
       "      <td>...</td>\n",
       "      <td>...</td>\n",
       "      <td>...</td>\n",
       "      <td>...</td>\n",
       "      <td>...</td>\n",
       "    </tr>\n",
       "    <tr>\n",
       "      <th>541904</th>\n",
       "      <td>581587</td>\n",
       "      <td>22613</td>\n",
       "      <td>PACK OF 20 SPACEBOY NAPKINS</td>\n",
       "      <td>12</td>\n",
       "      <td>12/9/2011 12:50</td>\n",
       "      <td>0.85</td>\n",
       "      <td>12680.0</td>\n",
       "      <td>France</td>\n",
       "    </tr>\n",
       "    <tr>\n",
       "      <th>541905</th>\n",
       "      <td>581587</td>\n",
       "      <td>22899</td>\n",
       "      <td>CHILDREN'S APRON DOLLY GIRL</td>\n",
       "      <td>6</td>\n",
       "      <td>12/9/2011 12:50</td>\n",
       "      <td>2.10</td>\n",
       "      <td>12680.0</td>\n",
       "      <td>France</td>\n",
       "    </tr>\n",
       "    <tr>\n",
       "      <th>541906</th>\n",
       "      <td>581587</td>\n",
       "      <td>23254</td>\n",
       "      <td>CHILDRENS CUTLERY DOLLY GIRL</td>\n",
       "      <td>4</td>\n",
       "      <td>12/9/2011 12:50</td>\n",
       "      <td>4.15</td>\n",
       "      <td>12680.0</td>\n",
       "      <td>France</td>\n",
       "    </tr>\n",
       "    <tr>\n",
       "      <th>541907</th>\n",
       "      <td>581587</td>\n",
       "      <td>23255</td>\n",
       "      <td>CHILDRENS CUTLERY CIRCUS PARADE</td>\n",
       "      <td>4</td>\n",
       "      <td>12/9/2011 12:50</td>\n",
       "      <td>4.15</td>\n",
       "      <td>12680.0</td>\n",
       "      <td>France</td>\n",
       "    </tr>\n",
       "    <tr>\n",
       "      <th>541908</th>\n",
       "      <td>581587</td>\n",
       "      <td>22138</td>\n",
       "      <td>BAKING SET 9 PIECE RETROSPOT</td>\n",
       "      <td>3</td>\n",
       "      <td>12/9/2011 12:50</td>\n",
       "      <td>4.95</td>\n",
       "      <td>12680.0</td>\n",
       "      <td>France</td>\n",
       "    </tr>\n",
       "  </tbody>\n",
       "</table>\n",
       "<p>541909 rows × 8 columns</p>\n",
       "</div>"
      ],
      "text/plain": [
       "       InvoiceNo StockCode                          Description  Quantity  \\\n",
       "0         536365    85123A   WHITE HANGING HEART T-LIGHT HOLDER         6   \n",
       "1         536365     71053                  WHITE METAL LANTERN         6   \n",
       "2         536365    84406B       CREAM CUPID HEARTS COAT HANGER         8   \n",
       "3         536365    84029G  KNITTED UNION FLAG HOT WATER BOTTLE         6   \n",
       "4         536365    84029E       RED WOOLLY HOTTIE WHITE HEART.         6   \n",
       "...          ...       ...                                  ...       ...   \n",
       "541904    581587     22613          PACK OF 20 SPACEBOY NAPKINS        12   \n",
       "541905    581587     22899         CHILDREN'S APRON DOLLY GIRL          6   \n",
       "541906    581587     23254        CHILDRENS CUTLERY DOLLY GIRL          4   \n",
       "541907    581587     23255      CHILDRENS CUTLERY CIRCUS PARADE         4   \n",
       "541908    581587     22138        BAKING SET 9 PIECE RETROSPOT          3   \n",
       "\n",
       "            InvoiceDate  UnitPrice  CustomerID         Country  \n",
       "0        12/1/2010 8:26       2.55     17850.0  United Kingdom  \n",
       "1        12/1/2010 8:26       3.39     17850.0  United Kingdom  \n",
       "2        12/1/2010 8:26       2.75     17850.0  United Kingdom  \n",
       "3        12/1/2010 8:26       3.39     17850.0  United Kingdom  \n",
       "4        12/1/2010 8:26       3.39     17850.0  United Kingdom  \n",
       "...                 ...        ...         ...             ...  \n",
       "541904  12/9/2011 12:50       0.85     12680.0          France  \n",
       "541905  12/9/2011 12:50       2.10     12680.0          France  \n",
       "541906  12/9/2011 12:50       4.15     12680.0          France  \n",
       "541907  12/9/2011 12:50       4.15     12680.0          France  \n",
       "541908  12/9/2011 12:50       4.95     12680.0          France  \n",
       "\n",
       "[541909 rows x 8 columns]"
      ]
     },
     "execution_count": 2,
     "metadata": {},
     "output_type": "execute_result"
    }
   ],
   "source": [
    "# Load the dataset\n",
    "df = pd.read_csv('/kaggle/input/ecommerce-data/data.csv', encoding='ISO-8859-1')\n",
    "df"
   ]
  },
  {
   "cell_type": "code",
   "execution_count": 3,
   "id": "90abae97",
   "metadata": {
    "execution": {
     "iopub.execute_input": "2023-11-10T23:00:47.094300Z",
     "iopub.status.busy": "2023-11-10T23:00:47.093998Z",
     "iopub.status.idle": "2023-11-10T23:00:47.200582Z",
     "shell.execute_reply": "2023-11-10T23:00:47.198878Z"
    },
    "papermill": {
     "duration": 0.118391,
     "end_time": "2023-11-10T23:00:47.202404",
     "exception": false,
     "start_time": "2023-11-10T23:00:47.084013",
     "status": "completed"
    },
    "tags": []
   },
   "outputs": [
    {
     "name": "stdout",
     "output_type": "stream",
     "text": [
      "<class 'pandas.core.frame.DataFrame'>\n",
      "RangeIndex: 541909 entries, 0 to 541908\n",
      "Data columns (total 8 columns):\n",
      " #   Column       Non-Null Count   Dtype  \n",
      "---  ------       --------------   -----  \n",
      " 0   InvoiceNo    541909 non-null  object \n",
      " 1   StockCode    541909 non-null  object \n",
      " 2   Description  540455 non-null  object \n",
      " 3   Quantity     541909 non-null  int64  \n",
      " 4   InvoiceDate  541909 non-null  object \n",
      " 5   UnitPrice    541909 non-null  float64\n",
      " 6   CustomerID   406829 non-null  float64\n",
      " 7   Country      541909 non-null  object \n",
      "dtypes: float64(2), int64(1), object(5)\n",
      "memory usage: 33.1+ MB\n"
     ]
    }
   ],
   "source": [
    "# Dataset information\n",
    "df.info()"
   ]
  },
  {
   "cell_type": "code",
   "execution_count": 4,
   "id": "835390f3",
   "metadata": {
    "_kg_hide-input": false,
    "execution": {
     "iopub.execute_input": "2023-11-10T23:00:47.224111Z",
     "iopub.status.busy": "2023-11-10T23:00:47.223770Z",
     "iopub.status.idle": "2023-11-10T23:00:47.409784Z",
     "shell.execute_reply": "2023-11-10T23:00:47.408091Z"
    },
    "papermill": {
     "duration": 0.199801,
     "end_time": "2023-11-10T23:00:47.412170",
     "exception": false,
     "start_time": "2023-11-10T23:00:47.212369",
     "status": "completed"
    },
    "tags": []
   },
   "outputs": [
    {
     "data": {
      "text/plain": [
       "InvoiceNo      25900\n",
       "StockCode       4070\n",
       "Description     4223\n",
       "Quantity         722\n",
       "InvoiceDate    23260\n",
       "UnitPrice       1630\n",
       "CustomerID      4372\n",
       "Country           38\n",
       "dtype: int64"
      ]
     },
     "execution_count": 4,
     "metadata": {},
     "output_type": "execute_result"
    }
   ],
   "source": [
    "# How many unique values on each column\n",
    "df.nunique()"
   ]
  },
  {
   "cell_type": "code",
   "execution_count": 5,
   "id": "ccb201bf",
   "metadata": {
    "execution": {
     "iopub.execute_input": "2023-11-10T23:00:47.432557Z",
     "iopub.status.busy": "2023-11-10T23:00:47.432166Z",
     "iopub.status.idle": "2023-11-10T23:00:47.519051Z",
     "shell.execute_reply": "2023-11-10T23:00:47.517918Z"
    },
    "papermill": {
     "duration": 0.099974,
     "end_time": "2023-11-10T23:00:47.521723",
     "exception": false,
     "start_time": "2023-11-10T23:00:47.421749",
     "status": "completed"
    },
    "tags": []
   },
   "outputs": [
    {
     "data": {
      "text/plain": [
       "InvoiceNo           0\n",
       "StockCode           0\n",
       "Description      1454\n",
       "Quantity            0\n",
       "InvoiceDate         0\n",
       "UnitPrice           0\n",
       "CustomerID     135080\n",
       "Country             0\n",
       "dtype: int64"
      ]
     },
     "execution_count": 5,
     "metadata": {},
     "output_type": "execute_result"
    }
   ],
   "source": [
    "# Cheack how many missing values on each column\n",
    "df.isnull().sum()"
   ]
  },
  {
   "cell_type": "markdown",
   "id": "201c6419",
   "metadata": {
    "papermill": {
     "duration": 0.009654,
     "end_time": "2023-11-10T23:00:47.541149",
     "exception": false,
     "start_time": "2023-11-10T23:00:47.531495",
     "status": "completed"
    },
    "tags": []
   },
   "source": [
    "# Data Cleaning\n",
    "1. Handling missing data\n",
    "2. Fixing dtypes\n",
    "3. Drop duplicates"
   ]
  },
  {
   "cell_type": "code",
   "execution_count": 6,
   "id": "e69f423a",
   "metadata": {
    "execution": {
     "iopub.execute_input": "2023-11-10T23:00:47.561476Z",
     "iopub.status.busy": "2023-11-10T23:00:47.561103Z",
     "iopub.status.idle": "2023-11-10T23:00:52.849463Z",
     "shell.execute_reply": "2023-11-10T23:00:52.848202Z"
    },
    "papermill": {
     "duration": 5.301156,
     "end_time": "2023-11-10T23:00:52.851769",
     "exception": false,
     "start_time": "2023-11-10T23:00:47.550613",
     "status": "completed"
    },
    "tags": []
   },
   "outputs": [
    {
     "data": {
      "text/plain": [
       "InvoiceNo           0\n",
       "StockCode           0\n",
       "Description       112\n",
       "Quantity            0\n",
       "InvoiceDate         0\n",
       "UnitPrice           0\n",
       "CustomerID     135080\n",
       "Country             0\n",
       "dtype: int64"
      ]
     },
     "execution_count": 6,
     "metadata": {},
     "output_type": "execute_result"
    }
   ],
   "source": [
    "# Check the StockCode that have missing Description\n",
    "miss_description = df[df['Description'].isnull()]\n",
    "stockcode_with_miss_description = miss_description['StockCode'].unique()\n",
    "\n",
    "# Check all the StockCode that don't have missing Description\n",
    "non_null_description = df[df['StockCode'].isin(stockcode_with_miss_description) & df['Description'].notnull()]\n",
    "\n",
    "# Create a dictionary mapping StockCode to Description from non_null_description\n",
    "description_mapping = non_null_description.groupby('StockCode')['Description'].first().to_dict()\n",
    "\n",
    "# Fill missing Description based on StockCode\n",
    "def fill_missing_desc(row):\n",
    "    if pd.isnull(row['Description']) and row['StockCode'] in description_mapping:\n",
    "        return description_mapping[row['StockCode']]\n",
    "    else:\n",
    "        return row['Description']\n",
    "\n",
    "df['Description'] = df.apply(fill_missing_desc, axis=1)\n",
    "\n",
    "df.isnull().sum()"
   ]
  },
  {
   "cell_type": "code",
   "execution_count": 7,
   "id": "e93586c5",
   "metadata": {
    "execution": {
     "iopub.execute_input": "2023-11-10T23:00:52.872069Z",
     "iopub.status.busy": "2023-11-10T23:00:52.871733Z",
     "iopub.status.idle": "2023-11-10T23:00:58.093973Z",
     "shell.execute_reply": "2023-11-10T23:00:58.092599Z"
    },
    "papermill": {
     "duration": 5.235156,
     "end_time": "2023-11-10T23:00:58.096541",
     "exception": false,
     "start_time": "2023-11-10T23:00:52.861385",
     "status": "completed"
    },
    "tags": []
   },
   "outputs": [
    {
     "data": {
      "text/plain": [
       "InvoiceNo           0\n",
       "StockCode           0\n",
       "Description         0\n",
       "Quantity            0\n",
       "InvoiceDate         0\n",
       "UnitPrice           0\n",
       "CustomerID     135080\n",
       "Country             0\n",
       "dtype: int64"
      ]
     },
     "execution_count": 7,
     "metadata": {},
     "output_type": "execute_result"
    }
   ],
   "source": [
    "# Check the UnitPrice that have missing Description\n",
    "miss_description = df[df['Description'].isnull()]\n",
    "unitprice_with_miss_description = miss_description['UnitPrice'].unique()\n",
    "\n",
    "# Check all the UnitPrice that don't have missing Description\n",
    "non_null_description = df[df['UnitPrice'].isin(unitprice_with_miss_description) & df['Description'].notnull()]\n",
    "\n",
    "# Create a dictionary mapping UnitPrice to Description from non_null_description\n",
    "description_mapping = non_null_description.groupby('UnitPrice')['Description'].first().to_dict()\n",
    "\n",
    "# Fill missing Description based on UnitPrice\n",
    "def fill_missing_desc(row):\n",
    "    if pd.isnull(row['Description']) and row['UnitPrice'] in description_mapping:\n",
    "        return description_mapping[row['UnitPrice']]\n",
    "    else:\n",
    "        return row['Description']\n",
    "\n",
    "df['Description'] = df.apply(fill_missing_desc, axis=1)\n",
    "\n",
    "df.isnull().sum()"
   ]
  },
  {
   "cell_type": "markdown",
   "id": "df6d2527",
   "metadata": {
    "papermill": {
     "duration": 0.009459,
     "end_time": "2023-11-10T23:00:58.115926",
     "exception": false,
     "start_time": "2023-11-10T23:00:58.106467",
     "status": "completed"
    },
    "tags": []
   },
   "source": [
    "Reduced missing descriptions from 1454 to 0 by replacing with corresponding values from StockCode and UnitPrice. The missing CustomerID values are not crucial and will remain as they are, as they are mostly unique and difficult to replace due to their lack of pattern."
   ]
  },
  {
   "cell_type": "code",
   "execution_count": 8,
   "id": "afea1e9f",
   "metadata": {
    "execution": {
     "iopub.execute_input": "2023-11-10T23:00:58.192707Z",
     "iopub.status.busy": "2023-11-10T23:00:58.192046Z",
     "iopub.status.idle": "2023-11-10T23:00:58.432359Z",
     "shell.execute_reply": "2023-11-10T23:00:58.430850Z"
    },
    "papermill": {
     "duration": 0.309249,
     "end_time": "2023-11-10T23:00:58.434968",
     "exception": false,
     "start_time": "2023-11-10T23:00:58.125719",
     "status": "completed"
    },
    "tags": []
   },
   "outputs": [
    {
     "name": "stdout",
     "output_type": "stream",
     "text": [
      "<class 'pandas.core.frame.DataFrame'>\n",
      "RangeIndex: 541909 entries, 0 to 541908\n",
      "Data columns (total 10 columns):\n",
      " #   Column        Non-Null Count   Dtype         \n",
      "---  ------        --------------   -----         \n",
      " 0   InvoiceNo     541909 non-null  object        \n",
      " 1   StockCode     541909 non-null  object        \n",
      " 2   Description   541909 non-null  object        \n",
      " 3   Quantity      541909 non-null  int64         \n",
      " 4   InvoiceDate   541909 non-null  datetime64[ns]\n",
      " 5   UnitPrice     541909 non-null  float64       \n",
      " 6   CustomerID    406829 non-null  float64       \n",
      " 7   Country       541909 non-null  object        \n",
      " 8   InvoiceMonth  541909 non-null  int32         \n",
      " 9   InvoiceYear   541909 non-null  int32         \n",
      "dtypes: datetime64[ns](1), float64(2), int32(2), int64(1), object(4)\n",
      "memory usage: 37.2+ MB\n"
     ]
    }
   ],
   "source": [
    "# Change InvoiceDate dtype from object to datetime\n",
    "df['InvoiceDate'] = pd.to_datetime(df['InvoiceDate'])\n",
    "\n",
    "# Create another 2 columns for the year and month of the invoices date\n",
    "df['InvoiceMonth'] = df['InvoiceDate'].dt.month\n",
    "df['InvoiceYear'] = df['InvoiceDate'].dt.year\n",
    "\n",
    "df.info()"
   ]
  },
  {
   "cell_type": "code",
   "execution_count": 9,
   "id": "e085b917",
   "metadata": {
    "execution": {
     "iopub.execute_input": "2023-11-10T23:00:58.457111Z",
     "iopub.status.busy": "2023-11-10T23:00:58.456757Z",
     "iopub.status.idle": "2023-11-10T23:00:58.801775Z",
     "shell.execute_reply": "2023-11-10T23:00:58.800801Z"
    },
    "papermill": {
     "duration": 0.358338,
     "end_time": "2023-11-10T23:00:58.803839",
     "exception": false,
     "start_time": "2023-11-10T23:00:58.445501",
     "status": "completed"
    },
    "tags": []
   },
   "outputs": [
    {
     "data": {
      "text/html": [
       "<div>\n",
       "<style scoped>\n",
       "    .dataframe tbody tr th:only-of-type {\n",
       "        vertical-align: middle;\n",
       "    }\n",
       "\n",
       "    .dataframe tbody tr th {\n",
       "        vertical-align: top;\n",
       "    }\n",
       "\n",
       "    .dataframe thead th {\n",
       "        text-align: right;\n",
       "    }\n",
       "</style>\n",
       "<table border=\"1\" class=\"dataframe\">\n",
       "  <thead>\n",
       "    <tr style=\"text-align: right;\">\n",
       "      <th></th>\n",
       "      <th>InvoiceNo</th>\n",
       "      <th>StockCode</th>\n",
       "      <th>Description</th>\n",
       "      <th>Quantity</th>\n",
       "      <th>InvoiceDate</th>\n",
       "      <th>UnitPrice</th>\n",
       "      <th>CustomerID</th>\n",
       "      <th>Country</th>\n",
       "      <th>InvoiceMonth</th>\n",
       "      <th>InvoiceYear</th>\n",
       "    </tr>\n",
       "  </thead>\n",
       "  <tbody>\n",
       "    <tr>\n",
       "      <th>0</th>\n",
       "      <td>536365</td>\n",
       "      <td>85123A</td>\n",
       "      <td>WHITE HANGING HEART T-LIGHT HOLDER</td>\n",
       "      <td>6</td>\n",
       "      <td>2010-12-01 08:26:00</td>\n",
       "      <td>2.55</td>\n",
       "      <td>17850.0</td>\n",
       "      <td>United Kingdom</td>\n",
       "      <td>12</td>\n",
       "      <td>2010</td>\n",
       "    </tr>\n",
       "    <tr>\n",
       "      <th>1</th>\n",
       "      <td>536365</td>\n",
       "      <td>71053</td>\n",
       "      <td>WHITE METAL LANTERN</td>\n",
       "      <td>6</td>\n",
       "      <td>2010-12-01 08:26:00</td>\n",
       "      <td>3.39</td>\n",
       "      <td>17850.0</td>\n",
       "      <td>United Kingdom</td>\n",
       "      <td>12</td>\n",
       "      <td>2010</td>\n",
       "    </tr>\n",
       "    <tr>\n",
       "      <th>2</th>\n",
       "      <td>536365</td>\n",
       "      <td>84406B</td>\n",
       "      <td>CREAM CUPID HEARTS COAT HANGER</td>\n",
       "      <td>8</td>\n",
       "      <td>2010-12-01 08:26:00</td>\n",
       "      <td>2.75</td>\n",
       "      <td>17850.0</td>\n",
       "      <td>United Kingdom</td>\n",
       "      <td>12</td>\n",
       "      <td>2010</td>\n",
       "    </tr>\n",
       "    <tr>\n",
       "      <th>3</th>\n",
       "      <td>536365</td>\n",
       "      <td>84029G</td>\n",
       "      <td>KNITTED UNION FLAG HOT WATER BOTTLE</td>\n",
       "      <td>6</td>\n",
       "      <td>2010-12-01 08:26:00</td>\n",
       "      <td>3.39</td>\n",
       "      <td>17850.0</td>\n",
       "      <td>United Kingdom</td>\n",
       "      <td>12</td>\n",
       "      <td>2010</td>\n",
       "    </tr>\n",
       "    <tr>\n",
       "      <th>4</th>\n",
       "      <td>536365</td>\n",
       "      <td>84029E</td>\n",
       "      <td>RED WOOLLY HOTTIE WHITE HEART.</td>\n",
       "      <td>6</td>\n",
       "      <td>2010-12-01 08:26:00</td>\n",
       "      <td>3.39</td>\n",
       "      <td>17850.0</td>\n",
       "      <td>United Kingdom</td>\n",
       "      <td>12</td>\n",
       "      <td>2010</td>\n",
       "    </tr>\n",
       "    <tr>\n",
       "      <th>...</th>\n",
       "      <td>...</td>\n",
       "      <td>...</td>\n",
       "      <td>...</td>\n",
       "      <td>...</td>\n",
       "      <td>...</td>\n",
       "      <td>...</td>\n",
       "      <td>...</td>\n",
       "      <td>...</td>\n",
       "      <td>...</td>\n",
       "      <td>...</td>\n",
       "    </tr>\n",
       "    <tr>\n",
       "      <th>536636</th>\n",
       "      <td>581587</td>\n",
       "      <td>22613</td>\n",
       "      <td>PACK OF 20 SPACEBOY NAPKINS</td>\n",
       "      <td>12</td>\n",
       "      <td>2011-12-09 12:50:00</td>\n",
       "      <td>0.85</td>\n",
       "      <td>12680.0</td>\n",
       "      <td>France</td>\n",
       "      <td>12</td>\n",
       "      <td>2011</td>\n",
       "    </tr>\n",
       "    <tr>\n",
       "      <th>536637</th>\n",
       "      <td>581587</td>\n",
       "      <td>22899</td>\n",
       "      <td>CHILDREN'S APRON DOLLY GIRL</td>\n",
       "      <td>6</td>\n",
       "      <td>2011-12-09 12:50:00</td>\n",
       "      <td>2.10</td>\n",
       "      <td>12680.0</td>\n",
       "      <td>France</td>\n",
       "      <td>12</td>\n",
       "      <td>2011</td>\n",
       "    </tr>\n",
       "    <tr>\n",
       "      <th>536638</th>\n",
       "      <td>581587</td>\n",
       "      <td>23254</td>\n",
       "      <td>CHILDRENS CUTLERY DOLLY GIRL</td>\n",
       "      <td>4</td>\n",
       "      <td>2011-12-09 12:50:00</td>\n",
       "      <td>4.15</td>\n",
       "      <td>12680.0</td>\n",
       "      <td>France</td>\n",
       "      <td>12</td>\n",
       "      <td>2011</td>\n",
       "    </tr>\n",
       "    <tr>\n",
       "      <th>536639</th>\n",
       "      <td>581587</td>\n",
       "      <td>23255</td>\n",
       "      <td>CHILDRENS CUTLERY CIRCUS PARADE</td>\n",
       "      <td>4</td>\n",
       "      <td>2011-12-09 12:50:00</td>\n",
       "      <td>4.15</td>\n",
       "      <td>12680.0</td>\n",
       "      <td>France</td>\n",
       "      <td>12</td>\n",
       "      <td>2011</td>\n",
       "    </tr>\n",
       "    <tr>\n",
       "      <th>536640</th>\n",
       "      <td>581587</td>\n",
       "      <td>22138</td>\n",
       "      <td>BAKING SET 9 PIECE RETROSPOT</td>\n",
       "      <td>3</td>\n",
       "      <td>2011-12-09 12:50:00</td>\n",
       "      <td>4.95</td>\n",
       "      <td>12680.0</td>\n",
       "      <td>France</td>\n",
       "      <td>12</td>\n",
       "      <td>2011</td>\n",
       "    </tr>\n",
       "  </tbody>\n",
       "</table>\n",
       "<p>536641 rows × 10 columns</p>\n",
       "</div>"
      ],
      "text/plain": [
       "       InvoiceNo StockCode                          Description  Quantity  \\\n",
       "0         536365    85123A   WHITE HANGING HEART T-LIGHT HOLDER         6   \n",
       "1         536365     71053                  WHITE METAL LANTERN         6   \n",
       "2         536365    84406B       CREAM CUPID HEARTS COAT HANGER         8   \n",
       "3         536365    84029G  KNITTED UNION FLAG HOT WATER BOTTLE         6   \n",
       "4         536365    84029E       RED WOOLLY HOTTIE WHITE HEART.         6   \n",
       "...          ...       ...                                  ...       ...   \n",
       "536636    581587     22613          PACK OF 20 SPACEBOY NAPKINS        12   \n",
       "536637    581587     22899         CHILDREN'S APRON DOLLY GIRL          6   \n",
       "536638    581587     23254        CHILDRENS CUTLERY DOLLY GIRL          4   \n",
       "536639    581587     23255      CHILDRENS CUTLERY CIRCUS PARADE         4   \n",
       "536640    581587     22138        BAKING SET 9 PIECE RETROSPOT          3   \n",
       "\n",
       "               InvoiceDate  UnitPrice  CustomerID         Country  \\\n",
       "0      2010-12-01 08:26:00       2.55     17850.0  United Kingdom   \n",
       "1      2010-12-01 08:26:00       3.39     17850.0  United Kingdom   \n",
       "2      2010-12-01 08:26:00       2.75     17850.0  United Kingdom   \n",
       "3      2010-12-01 08:26:00       3.39     17850.0  United Kingdom   \n",
       "4      2010-12-01 08:26:00       3.39     17850.0  United Kingdom   \n",
       "...                    ...        ...         ...             ...   \n",
       "536636 2011-12-09 12:50:00       0.85     12680.0          France   \n",
       "536637 2011-12-09 12:50:00       2.10     12680.0          France   \n",
       "536638 2011-12-09 12:50:00       4.15     12680.0          France   \n",
       "536639 2011-12-09 12:50:00       4.15     12680.0          France   \n",
       "536640 2011-12-09 12:50:00       4.95     12680.0          France   \n",
       "\n",
       "        InvoiceMonth  InvoiceYear  \n",
       "0                 12         2010  \n",
       "1                 12         2010  \n",
       "2                 12         2010  \n",
       "3                 12         2010  \n",
       "4                 12         2010  \n",
       "...              ...          ...  \n",
       "536636            12         2011  \n",
       "536637            12         2011  \n",
       "536638            12         2011  \n",
       "536639            12         2011  \n",
       "536640            12         2011  \n",
       "\n",
       "[536641 rows x 10 columns]"
      ]
     },
     "execution_count": 9,
     "metadata": {},
     "output_type": "execute_result"
    }
   ],
   "source": [
    "# Drop duplicated invoices\n",
    "df = df.drop_duplicates()\n",
    "\n",
    "df.reset_index(inplace=True, drop=True)\n",
    "df"
   ]
  },
  {
   "cell_type": "markdown",
   "id": "678f8531",
   "metadata": {
    "papermill": {
     "duration": 0.009921,
     "end_time": "2023-11-10T23:00:58.823992",
     "exception": false,
     "start_time": "2023-11-10T23:00:58.814071",
     "status": "completed"
    },
    "tags": []
   },
   "source": [
    "# Data Analysis\n",
    "## Descriptive Statistic"
   ]
  },
  {
   "cell_type": "code",
   "execution_count": 10,
   "id": "d981e220",
   "metadata": {
    "execution": {
     "iopub.execute_input": "2023-11-10T23:00:58.846202Z",
     "iopub.status.busy": "2023-11-10T23:00:58.845552Z",
     "iopub.status.idle": "2023-11-10T23:00:58.934453Z",
     "shell.execute_reply": "2023-11-10T23:00:58.933143Z"
    },
    "papermill": {
     "duration": 0.103367,
     "end_time": "2023-11-10T23:00:58.937487",
     "exception": false,
     "start_time": "2023-11-10T23:00:58.834120",
     "status": "completed"
    },
    "tags": []
   },
   "outputs": [
    {
     "data": {
      "text/html": [
       "<div>\n",
       "<style scoped>\n",
       "    .dataframe tbody tr th:only-of-type {\n",
       "        vertical-align: middle;\n",
       "    }\n",
       "\n",
       "    .dataframe tbody tr th {\n",
       "        vertical-align: top;\n",
       "    }\n",
       "\n",
       "    .dataframe thead th {\n",
       "        text-align: right;\n",
       "    }\n",
       "</style>\n",
       "<table border=\"1\" class=\"dataframe\">\n",
       "  <thead>\n",
       "    <tr style=\"text-align: right;\">\n",
       "      <th></th>\n",
       "      <th>Quantity</th>\n",
       "      <th>InvoiceDate</th>\n",
       "      <th>UnitPrice</th>\n",
       "      <th>CustomerID</th>\n",
       "      <th>InvoiceMonth</th>\n",
       "      <th>InvoiceYear</th>\n",
       "    </tr>\n",
       "  </thead>\n",
       "  <tbody>\n",
       "    <tr>\n",
       "      <th>count</th>\n",
       "      <td>536641.000000</td>\n",
       "      <td>536641</td>\n",
       "      <td>536641.000000</td>\n",
       "      <td>401604.000000</td>\n",
       "      <td>536641.000000</td>\n",
       "      <td>536641.000000</td>\n",
       "    </tr>\n",
       "    <tr>\n",
       "      <th>mean</th>\n",
       "      <td>9.620029</td>\n",
       "      <td>2011-07-04 08:57:06.087421952</td>\n",
       "      <td>4.632656</td>\n",
       "      <td>15281.160818</td>\n",
       "      <td>7.544820</td>\n",
       "      <td>2010.921771</td>\n",
       "    </tr>\n",
       "    <tr>\n",
       "      <th>min</th>\n",
       "      <td>-80995.000000</td>\n",
       "      <td>2010-12-01 08:26:00</td>\n",
       "      <td>-11062.060000</td>\n",
       "      <td>12346.000000</td>\n",
       "      <td>1.000000</td>\n",
       "      <td>2010.000000</td>\n",
       "    </tr>\n",
       "    <tr>\n",
       "      <th>25%</th>\n",
       "      <td>1.000000</td>\n",
       "      <td>2011-03-28 10:52:00</td>\n",
       "      <td>1.250000</td>\n",
       "      <td>13939.000000</td>\n",
       "      <td>5.000000</td>\n",
       "      <td>2011.000000</td>\n",
       "    </tr>\n",
       "    <tr>\n",
       "      <th>50%</th>\n",
       "      <td>3.000000</td>\n",
       "      <td>2011-07-19 14:04:00</td>\n",
       "      <td>2.080000</td>\n",
       "      <td>15145.000000</td>\n",
       "      <td>8.000000</td>\n",
       "      <td>2011.000000</td>\n",
       "    </tr>\n",
       "    <tr>\n",
       "      <th>75%</th>\n",
       "      <td>10.000000</td>\n",
       "      <td>2011-10-18 17:05:00</td>\n",
       "      <td>4.130000</td>\n",
       "      <td>16784.000000</td>\n",
       "      <td>11.000000</td>\n",
       "      <td>2011.000000</td>\n",
       "    </tr>\n",
       "    <tr>\n",
       "      <th>max</th>\n",
       "      <td>80995.000000</td>\n",
       "      <td>2011-12-09 12:50:00</td>\n",
       "      <td>38970.000000</td>\n",
       "      <td>18287.000000</td>\n",
       "      <td>12.000000</td>\n",
       "      <td>2011.000000</td>\n",
       "    </tr>\n",
       "    <tr>\n",
       "      <th>std</th>\n",
       "      <td>219.130156</td>\n",
       "      <td>NaN</td>\n",
       "      <td>97.233118</td>\n",
       "      <td>1714.006089</td>\n",
       "      <td>3.508696</td>\n",
       "      <td>0.268532</td>\n",
       "    </tr>\n",
       "  </tbody>\n",
       "</table>\n",
       "</div>"
      ],
      "text/plain": [
       "            Quantity                    InvoiceDate      UnitPrice  \\\n",
       "count  536641.000000                         536641  536641.000000   \n",
       "mean        9.620029  2011-07-04 08:57:06.087421952       4.632656   \n",
       "min    -80995.000000            2010-12-01 08:26:00  -11062.060000   \n",
       "25%         1.000000            2011-03-28 10:52:00       1.250000   \n",
       "50%         3.000000            2011-07-19 14:04:00       2.080000   \n",
       "75%        10.000000            2011-10-18 17:05:00       4.130000   \n",
       "max     80995.000000            2011-12-09 12:50:00   38970.000000   \n",
       "std       219.130156                            NaN      97.233118   \n",
       "\n",
       "          CustomerID   InvoiceMonth    InvoiceYear  \n",
       "count  401604.000000  536641.000000  536641.000000  \n",
       "mean    15281.160818       7.544820    2010.921771  \n",
       "min     12346.000000       1.000000    2010.000000  \n",
       "25%     13939.000000       5.000000    2011.000000  \n",
       "50%     15145.000000       8.000000    2011.000000  \n",
       "75%     16784.000000      11.000000    2011.000000  \n",
       "max     18287.000000      12.000000    2011.000000  \n",
       "std      1714.006089       3.508696       0.268532  "
      ]
     },
     "execution_count": 10,
     "metadata": {},
     "output_type": "execute_result"
    }
   ],
   "source": [
    "# Describe the dataset statistically\n",
    "df.describe()"
   ]
  },
  {
   "cell_type": "markdown",
   "id": "94f1bf39",
   "metadata": {
    "papermill": {
     "duration": 0.010934,
     "end_time": "2023-11-10T23:00:58.958828",
     "exception": false,
     "start_time": "2023-11-10T23:00:58.947894",
     "status": "completed"
    },
    "tags": []
   },
   "source": [
    "It doesn't quite feel right for UnitPrice to have negative values, especially the UnitPrice is in sterling as in Pound Sterling (£). As for the quantity is the value for the canceled invoices. Cancelled invoices typically have negative values in the quantity column to differentiate them from regular transactions. These negative quantities indicate the removal or return of items that were previously sold or purchased. Rather than removing the entire transaction from the database, the original transaction is typically retained but flagged as canceled, making it easier for record-keeping and maintaining the transaction history."
   ]
  },
  {
   "cell_type": "code",
   "execution_count": 11,
   "id": "cde34f1c",
   "metadata": {
    "execution": {
     "iopub.execute_input": "2023-11-10T23:00:58.981368Z",
     "iopub.status.busy": "2023-11-10T23:00:58.980679Z",
     "iopub.status.idle": "2023-11-10T23:00:58.994473Z",
     "shell.execute_reply": "2023-11-10T23:00:58.993429Z"
    },
    "papermill": {
     "duration": 0.027455,
     "end_time": "2023-11-10T23:00:58.996746",
     "exception": false,
     "start_time": "2023-11-10T23:00:58.969291",
     "status": "completed"
    },
    "tags": []
   },
   "outputs": [
    {
     "data": {
      "text/html": [
       "<div>\n",
       "<style scoped>\n",
       "    .dataframe tbody tr th:only-of-type {\n",
       "        vertical-align: middle;\n",
       "    }\n",
       "\n",
       "    .dataframe tbody tr th {\n",
       "        vertical-align: top;\n",
       "    }\n",
       "\n",
       "    .dataframe thead th {\n",
       "        text-align: right;\n",
       "    }\n",
       "</style>\n",
       "<table border=\"1\" class=\"dataframe\">\n",
       "  <thead>\n",
       "    <tr style=\"text-align: right;\">\n",
       "      <th></th>\n",
       "      <th>InvoiceNo</th>\n",
       "      <th>StockCode</th>\n",
       "      <th>Description</th>\n",
       "      <th>Quantity</th>\n",
       "      <th>InvoiceDate</th>\n",
       "      <th>UnitPrice</th>\n",
       "      <th>CustomerID</th>\n",
       "      <th>Country</th>\n",
       "      <th>InvoiceMonth</th>\n",
       "      <th>InvoiceYear</th>\n",
       "    </tr>\n",
       "  </thead>\n",
       "  <tbody>\n",
       "    <tr>\n",
       "      <th>297646</th>\n",
       "      <td>A563186</td>\n",
       "      <td>B</td>\n",
       "      <td>Adjust bad debt</td>\n",
       "      <td>1</td>\n",
       "      <td>2011-08-12 14:51:00</td>\n",
       "      <td>-11062.06</td>\n",
       "      <td>NaN</td>\n",
       "      <td>United Kingdom</td>\n",
       "      <td>8</td>\n",
       "      <td>2011</td>\n",
       "    </tr>\n",
       "    <tr>\n",
       "      <th>297647</th>\n",
       "      <td>A563187</td>\n",
       "      <td>B</td>\n",
       "      <td>Adjust bad debt</td>\n",
       "      <td>1</td>\n",
       "      <td>2011-08-12 14:52:00</td>\n",
       "      <td>-11062.06</td>\n",
       "      <td>NaN</td>\n",
       "      <td>United Kingdom</td>\n",
       "      <td>8</td>\n",
       "      <td>2011</td>\n",
       "    </tr>\n",
       "  </tbody>\n",
       "</table>\n",
       "</div>"
      ],
      "text/plain": [
       "       InvoiceNo StockCode      Description  Quantity         InvoiceDate  \\\n",
       "297646   A563186         B  Adjust bad debt         1 2011-08-12 14:51:00   \n",
       "297647   A563187         B  Adjust bad debt         1 2011-08-12 14:52:00   \n",
       "\n",
       "        UnitPrice  CustomerID         Country  InvoiceMonth  InvoiceYear  \n",
       "297646  -11062.06         NaN  United Kingdom             8         2011  \n",
       "297647  -11062.06         NaN  United Kingdom             8         2011  "
      ]
     },
     "execution_count": 11,
     "metadata": {},
     "output_type": "execute_result"
    }
   ],
   "source": [
    "# Check the negative value\n",
    "df[df['UnitPrice'] < 0]"
   ]
  },
  {
   "cell_type": "markdown",
   "id": "3ebee8a9",
   "metadata": {
    "papermill": {
     "duration": 0.00998,
     "end_time": "2023-11-10T23:00:59.017338",
     "exception": false,
     "start_time": "2023-11-10T23:00:59.007358",
     "status": "completed"
    },
    "tags": []
   },
   "source": [
    "Because there's only 1 negative value, it could be the minus (-) is a mistake. So let's just replace the negative value by multipying it with negative one (-1)"
   ]
  },
  {
   "cell_type": "code",
   "execution_count": 12,
   "id": "451bdc24",
   "metadata": {
    "execution": {
     "iopub.execute_input": "2023-11-10T23:00:59.041364Z",
     "iopub.status.busy": "2023-11-10T23:00:59.040970Z",
     "iopub.status.idle": "2023-11-10T23:00:59.054278Z",
     "shell.execute_reply": "2023-11-10T23:00:59.053191Z"
    },
    "papermill": {
     "duration": 0.028526,
     "end_time": "2023-11-10T23:00:59.056272",
     "exception": false,
     "start_time": "2023-11-10T23:00:59.027746",
     "status": "completed"
    },
    "tags": []
   },
   "outputs": [
    {
     "data": {
      "text/html": [
       "<div>\n",
       "<style scoped>\n",
       "    .dataframe tbody tr th:only-of-type {\n",
       "        vertical-align: middle;\n",
       "    }\n",
       "\n",
       "    .dataframe tbody tr th {\n",
       "        vertical-align: top;\n",
       "    }\n",
       "\n",
       "    .dataframe thead th {\n",
       "        text-align: right;\n",
       "    }\n",
       "</style>\n",
       "<table border=\"1\" class=\"dataframe\">\n",
       "  <thead>\n",
       "    <tr style=\"text-align: right;\">\n",
       "      <th></th>\n",
       "      <th>InvoiceNo</th>\n",
       "      <th>StockCode</th>\n",
       "      <th>Description</th>\n",
       "      <th>Quantity</th>\n",
       "      <th>InvoiceDate</th>\n",
       "      <th>UnitPrice</th>\n",
       "      <th>CustomerID</th>\n",
       "      <th>Country</th>\n",
       "      <th>InvoiceMonth</th>\n",
       "      <th>InvoiceYear</th>\n",
       "    </tr>\n",
       "  </thead>\n",
       "  <tbody>\n",
       "  </tbody>\n",
       "</table>\n",
       "</div>"
      ],
      "text/plain": [
       "Empty DataFrame\n",
       "Columns: [InvoiceNo, StockCode, Description, Quantity, InvoiceDate, UnitPrice, CustomerID, Country, InvoiceMonth, InvoiceYear]\n",
       "Index: []"
      ]
     },
     "execution_count": 12,
     "metadata": {},
     "output_type": "execute_result"
    }
   ],
   "source": [
    "# Replace UnitPrice < 0 by multiply it with -1\n",
    "df.loc[df['UnitPrice'] < 0, 'UnitPrice'] = df.loc[df['UnitPrice'] < 0, 'UnitPrice'] * -1\n",
    "\n",
    "# Check again for the negative value\n",
    "df[df['UnitPrice'] < 0]"
   ]
  },
  {
   "cell_type": "code",
   "execution_count": 13,
   "id": "5abc8690",
   "metadata": {
    "execution": {
     "iopub.execute_input": "2023-11-10T23:00:59.079704Z",
     "iopub.status.busy": "2023-11-10T23:00:59.079349Z",
     "iopub.status.idle": "2023-11-10T23:00:59.156665Z",
     "shell.execute_reply": "2023-11-10T23:00:59.155101Z"
    },
    "papermill": {
     "duration": 0.092513,
     "end_time": "2023-11-10T23:00:59.159508",
     "exception": false,
     "start_time": "2023-11-10T23:00:59.066995",
     "status": "completed"
    },
    "tags": []
   },
   "outputs": [
    {
     "data": {
      "text/html": [
       "<div>\n",
       "<style scoped>\n",
       "    .dataframe tbody tr th:only-of-type {\n",
       "        vertical-align: middle;\n",
       "    }\n",
       "\n",
       "    .dataframe tbody tr th {\n",
       "        vertical-align: top;\n",
       "    }\n",
       "\n",
       "    .dataframe thead th {\n",
       "        text-align: right;\n",
       "    }\n",
       "</style>\n",
       "<table border=\"1\" class=\"dataframe\">\n",
       "  <thead>\n",
       "    <tr style=\"text-align: right;\">\n",
       "      <th></th>\n",
       "      <th>Quantity</th>\n",
       "      <th>InvoiceDate</th>\n",
       "      <th>UnitPrice</th>\n",
       "      <th>CustomerID</th>\n",
       "      <th>InvoiceMonth</th>\n",
       "      <th>InvoiceYear</th>\n",
       "    </tr>\n",
       "  </thead>\n",
       "  <tbody>\n",
       "    <tr>\n",
       "      <th>count</th>\n",
       "      <td>536641.000000</td>\n",
       "      <td>536641</td>\n",
       "      <td>536641.000000</td>\n",
       "      <td>401604.000000</td>\n",
       "      <td>536641.000000</td>\n",
       "      <td>536641.000000</td>\n",
       "    </tr>\n",
       "    <tr>\n",
       "      <th>mean</th>\n",
       "      <td>9.620029</td>\n",
       "      <td>2011-07-04 08:57:06.087421952</td>\n",
       "      <td>4.715110</td>\n",
       "      <td>15281.160818</td>\n",
       "      <td>7.544820</td>\n",
       "      <td>2010.921771</td>\n",
       "    </tr>\n",
       "    <tr>\n",
       "      <th>min</th>\n",
       "      <td>-80995.000000</td>\n",
       "      <td>2010-12-01 08:26:00</td>\n",
       "      <td>0.000000</td>\n",
       "      <td>12346.000000</td>\n",
       "      <td>1.000000</td>\n",
       "      <td>2010.000000</td>\n",
       "    </tr>\n",
       "    <tr>\n",
       "      <th>25%</th>\n",
       "      <td>1.000000</td>\n",
       "      <td>2011-03-28 10:52:00</td>\n",
       "      <td>1.250000</td>\n",
       "      <td>13939.000000</td>\n",
       "      <td>5.000000</td>\n",
       "      <td>2011.000000</td>\n",
       "    </tr>\n",
       "    <tr>\n",
       "      <th>50%</th>\n",
       "      <td>3.000000</td>\n",
       "      <td>2011-07-19 14:04:00</td>\n",
       "      <td>2.080000</td>\n",
       "      <td>15145.000000</td>\n",
       "      <td>8.000000</td>\n",
       "      <td>2011.000000</td>\n",
       "    </tr>\n",
       "    <tr>\n",
       "      <th>75%</th>\n",
       "      <td>10.000000</td>\n",
       "      <td>2011-10-18 17:05:00</td>\n",
       "      <td>4.130000</td>\n",
       "      <td>16784.000000</td>\n",
       "      <td>11.000000</td>\n",
       "      <td>2011.000000</td>\n",
       "    </tr>\n",
       "    <tr>\n",
       "      <th>max</th>\n",
       "      <td>80995.000000</td>\n",
       "      <td>2011-12-09 12:50:00</td>\n",
       "      <td>38970.000000</td>\n",
       "      <td>18287.000000</td>\n",
       "      <td>12.000000</td>\n",
       "      <td>2011.000000</td>\n",
       "    </tr>\n",
       "    <tr>\n",
       "      <th>std</th>\n",
       "      <td>219.130156</td>\n",
       "      <td>NaN</td>\n",
       "      <td>97.229154</td>\n",
       "      <td>1714.006089</td>\n",
       "      <td>3.508696</td>\n",
       "      <td>0.268532</td>\n",
       "    </tr>\n",
       "  </tbody>\n",
       "</table>\n",
       "</div>"
      ],
      "text/plain": [
       "            Quantity                    InvoiceDate      UnitPrice  \\\n",
       "count  536641.000000                         536641  536641.000000   \n",
       "mean        9.620029  2011-07-04 08:57:06.087421952       4.715110   \n",
       "min    -80995.000000            2010-12-01 08:26:00       0.000000   \n",
       "25%         1.000000            2011-03-28 10:52:00       1.250000   \n",
       "50%         3.000000            2011-07-19 14:04:00       2.080000   \n",
       "75%        10.000000            2011-10-18 17:05:00       4.130000   \n",
       "max     80995.000000            2011-12-09 12:50:00   38970.000000   \n",
       "std       219.130156                            NaN      97.229154   \n",
       "\n",
       "          CustomerID   InvoiceMonth    InvoiceYear  \n",
       "count  401604.000000  536641.000000  536641.000000  \n",
       "mean    15281.160818       7.544820    2010.921771  \n",
       "min     12346.000000       1.000000    2010.000000  \n",
       "25%     13939.000000       5.000000    2011.000000  \n",
       "50%     15145.000000       8.000000    2011.000000  \n",
       "75%     16784.000000      11.000000    2011.000000  \n",
       "max     18287.000000      12.000000    2011.000000  \n",
       "std      1714.006089       3.508696       0.268532  "
      ]
     },
     "execution_count": 13,
     "metadata": {},
     "output_type": "execute_result"
    }
   ],
   "source": [
    "# Describe the dataset again statistically\n",
    "df.describe()"
   ]
  },
  {
   "cell_type": "code",
   "execution_count": 14,
   "id": "ed0e272b",
   "metadata": {
    "execution": {
     "iopub.execute_input": "2023-11-10T23:00:59.183056Z",
     "iopub.status.busy": "2023-11-10T23:00:59.182723Z",
     "iopub.status.idle": "2023-11-10T23:00:59.364963Z",
     "shell.execute_reply": "2023-11-10T23:00:59.363831Z"
    },
    "papermill": {
     "duration": 0.196879,
     "end_time": "2023-11-10T23:00:59.367650",
     "exception": false,
     "start_time": "2023-11-10T23:00:59.170771",
     "status": "completed"
    },
    "tags": []
   },
   "outputs": [
    {
     "data": {
      "text/html": [
       "<div>\n",
       "<style scoped>\n",
       "    .dataframe tbody tr th:only-of-type {\n",
       "        vertical-align: middle;\n",
       "    }\n",
       "\n",
       "    .dataframe tbody tr th {\n",
       "        vertical-align: top;\n",
       "    }\n",
       "\n",
       "    .dataframe thead th {\n",
       "        text-align: right;\n",
       "    }\n",
       "</style>\n",
       "<table border=\"1\" class=\"dataframe\">\n",
       "  <thead>\n",
       "    <tr style=\"text-align: right;\">\n",
       "      <th></th>\n",
       "      <th>InvoiceNo</th>\n",
       "      <th>StockCode</th>\n",
       "      <th>Description</th>\n",
       "      <th>Quantity</th>\n",
       "      <th>InvoiceDate</th>\n",
       "      <th>UnitPrice</th>\n",
       "      <th>CustomerID</th>\n",
       "      <th>Country</th>\n",
       "      <th>InvoiceMonth</th>\n",
       "      <th>InvoiceYear</th>\n",
       "    </tr>\n",
       "  </thead>\n",
       "  <tbody>\n",
       "    <tr>\n",
       "      <th>0</th>\n",
       "      <td>573585</td>\n",
       "      <td>85123A</td>\n",
       "      <td>WHITE HANGING HEART T-LIGHT HOLDER</td>\n",
       "      <td>1</td>\n",
       "      <td>2011-10-31 14:41:00</td>\n",
       "      <td>1.25</td>\n",
       "      <td>17841.0</td>\n",
       "      <td>United Kingdom</td>\n",
       "      <td>11</td>\n",
       "      <td>2011</td>\n",
       "    </tr>\n",
       "  </tbody>\n",
       "</table>\n",
       "</div>"
      ],
      "text/plain": [
       "  InvoiceNo StockCode                         Description  Quantity  \\\n",
       "0    573585    85123A  WHITE HANGING HEART T-LIGHT HOLDER         1   \n",
       "\n",
       "          InvoiceDate  UnitPrice  CustomerID         Country  InvoiceMonth  \\\n",
       "0 2011-10-31 14:41:00       1.25     17841.0  United Kingdom            11   \n",
       "\n",
       "   InvoiceYear  \n",
       "0         2011  "
      ]
     },
     "execution_count": 14,
     "metadata": {},
     "output_type": "execute_result"
    }
   ],
   "source": [
    "# Mode of the dataset\n",
    "df.mode()"
   ]
  },
  {
   "cell_type": "markdown",
   "id": "e3061bd3",
   "metadata": {
    "papermill": {
     "duration": 0.010766,
     "end_time": "2023-11-10T23:00:59.389618",
     "exception": false,
     "start_time": "2023-11-10T23:00:59.378852",
     "status": "completed"
    },
    "tags": []
   },
   "source": [
    "## Canceled and Non-Canceled Invoices"
   ]
  },
  {
   "cell_type": "code",
   "execution_count": 15,
   "id": "38eae2a7",
   "metadata": {
    "execution": {
     "iopub.execute_input": "2023-11-10T23:00:59.413738Z",
     "iopub.status.busy": "2023-11-10T23:00:59.413357Z",
     "iopub.status.idle": "2023-11-10T23:00:59.962997Z",
     "shell.execute_reply": "2023-11-10T23:00:59.961892Z"
    },
    "papermill": {
     "duration": 0.564774,
     "end_time": "2023-11-10T23:00:59.965502",
     "exception": false,
     "start_time": "2023-11-10T23:00:59.400728",
     "status": "completed"
    },
    "tags": []
   },
   "outputs": [
    {
     "data": {
      "image/png": "[encoded data removed]",
      "text/plain": [
       "<Figure size 640x480 with 1 Axes>"
      ]
     },
     "metadata": {},
     "output_type": "display_data"
    }
   ],
   "source": [
    "# Count the occurrences of 'InvoiceNo' starting with 'C'\n",
    "canceled_invoices = df[df['InvoiceNo'].str.startswith('C')]['InvoiceNo'].count()\n",
    "\n",
    "# Count the occurrences of 'InvoiceNo' NOT starting with 'C'\n",
    "non_canceled_invoices = df[~df['InvoiceNo'].str.startswith('C')]['InvoiceNo'].count()\n",
    "\n",
    "# Create a pie chart\n",
    "labels = ['Canceled Invoices (C)', 'Non-Canceled Invoices']\n",
    "sizes = [canceled_invoices, non_canceled_invoices]\n",
    "colors = ['lightcoral', 'lightskyblue']\n",
    "explode = (0.1, 0)  # explode the 1st slice (canceled invoices)\n",
    "\n",
    "plt.pie(sizes, explode=explode, labels=labels, colors=colors, autopct='%1.1f%%', startangle=140)\n",
    "plt.axis('equal')  # Equal aspect ratio ensures that pie is drawn as a circle.\n",
    "plt.title('Proportion of Canceled Invoices')\n",
    "\n",
    "plt.show()"
   ]
  },
  {
   "cell_type": "code",
   "execution_count": 16,
   "id": "a395c27c",
   "metadata": {
    "execution": {
     "iopub.execute_input": "2023-11-10T23:00:59.999451Z",
     "iopub.status.busy": "2023-11-10T23:00:59.997202Z",
     "iopub.status.idle": "2023-11-10T23:01:00.003920Z",
     "shell.execute_reply": "2023-11-10T23:01:00.003079Z"
    },
    "papermill": {
     "duration": 0.025609,
     "end_time": "2023-11-10T23:01:00.005796",
     "exception": false,
     "start_time": "2023-11-10T23:00:59.980187",
     "status": "completed"
    },
    "tags": []
   },
   "outputs": [
    {
     "name": "stdout",
     "output_type": "stream",
     "text": [
      "Total of Canceled Invoices:  9251\n",
      "Total of Non-Canceled Invoices:  527390\n"
     ]
    }
   ],
   "source": [
    "# Check the number of the canceled and non-canceled invoices\n",
    "print('Total of Canceled Invoices: ', canceled_invoices)\n",
    "print('Total of Non-Canceled Invoices: ', non_canceled_invoices)"
   ]
  },
  {
   "cell_type": "code",
   "execution_count": 17,
   "id": "4867690d",
   "metadata": {
    "execution": {
     "iopub.execute_input": "2023-11-10T23:01:00.036062Z",
     "iopub.status.busy": "2023-11-10T23:01:00.035005Z",
     "iopub.status.idle": "2023-11-10T23:01:00.225017Z",
     "shell.execute_reply": "2023-11-10T23:01:00.223787Z"
    },
    "papermill": {
     "duration": 0.206879,
     "end_time": "2023-11-10T23:01:00.227468",
     "exception": false,
     "start_time": "2023-11-10T23:01:00.020589",
     "status": "completed"
    },
    "tags": []
   },
   "outputs": [
    {
     "data": {
      "text/html": [
       "<div>\n",
       "<style scoped>\n",
       "    .dataframe tbody tr th:only-of-type {\n",
       "        vertical-align: middle;\n",
       "    }\n",
       "\n",
       "    .dataframe tbody tr th {\n",
       "        vertical-align: top;\n",
       "    }\n",
       "\n",
       "    .dataframe thead th {\n",
       "        text-align: right;\n",
       "    }\n",
       "</style>\n",
       "<table border=\"1\" class=\"dataframe\">\n",
       "  <thead>\n",
       "    <tr style=\"text-align: right;\">\n",
       "      <th></th>\n",
       "      <th>Quantity</th>\n",
       "      <th>InvoiceDate</th>\n",
       "      <th>UnitPrice</th>\n",
       "      <th>CustomerID</th>\n",
       "      <th>InvoiceMonth</th>\n",
       "      <th>InvoiceYear</th>\n",
       "    </tr>\n",
       "  </thead>\n",
       "  <tbody>\n",
       "    <tr>\n",
       "      <th>count</th>\n",
       "      <td>9251.000000</td>\n",
       "      <td>9251</td>\n",
       "      <td>9251.000000</td>\n",
       "      <td>8872.000000</td>\n",
       "      <td>9251.000000</td>\n",
       "      <td>9251.000000</td>\n",
       "    </tr>\n",
       "    <tr>\n",
       "      <th>mean</th>\n",
       "      <td>-29.787050</td>\n",
       "      <td>2011-06-26 07:06:45.231866880</td>\n",
       "      <td>48.570430</td>\n",
       "      <td>14990.152953</td>\n",
       "      <td>7.278240</td>\n",
       "      <td>2010.922279</td>\n",
       "    </tr>\n",
       "    <tr>\n",
       "      <th>min</th>\n",
       "      <td>-80995.000000</td>\n",
       "      <td>2010-12-01 09:41:00</td>\n",
       "      <td>0.010000</td>\n",
       "      <td>12346.000000</td>\n",
       "      <td>1.000000</td>\n",
       "      <td>2010.000000</td>\n",
       "    </tr>\n",
       "    <tr>\n",
       "      <th>25%</th>\n",
       "      <td>-6.000000</td>\n",
       "      <td>2011-03-21 16:26:00</td>\n",
       "      <td>1.450000</td>\n",
       "      <td>13505.000000</td>\n",
       "      <td>4.000000</td>\n",
       "      <td>2011.000000</td>\n",
       "    </tr>\n",
       "    <tr>\n",
       "      <th>50%</th>\n",
       "      <td>-2.000000</td>\n",
       "      <td>2011-07-08 13:04:00</td>\n",
       "      <td>2.950000</td>\n",
       "      <td>14868.000000</td>\n",
       "      <td>8.000000</td>\n",
       "      <td>2011.000000</td>\n",
       "    </tr>\n",
       "    <tr>\n",
       "      <th>75%</th>\n",
       "      <td>-1.000000</td>\n",
       "      <td>2011-10-06 20:36:00</td>\n",
       "      <td>5.950000</td>\n",
       "      <td>16393.000000</td>\n",
       "      <td>10.000000</td>\n",
       "      <td>2011.000000</td>\n",
       "    </tr>\n",
       "    <tr>\n",
       "      <th>max</th>\n",
       "      <td>-1.000000</td>\n",
       "      <td>2011-12-09 11:58:00</td>\n",
       "      <td>38970.000000</td>\n",
       "      <td>18282.000000</td>\n",
       "      <td>12.000000</td>\n",
       "      <td>2011.000000</td>\n",
       "    </tr>\n",
       "    <tr>\n",
       "      <th>std</th>\n",
       "      <td>1147.997592</td>\n",
       "      <td>NaN</td>\n",
       "      <td>667.926393</td>\n",
       "      <td>1708.230387</td>\n",
       "      <td>3.515522</td>\n",
       "      <td>0.267747</td>\n",
       "    </tr>\n",
       "  </tbody>\n",
       "</table>\n",
       "</div>"
      ],
      "text/plain": [
       "           Quantity                    InvoiceDate     UnitPrice  \\\n",
       "count   9251.000000                           9251   9251.000000   \n",
       "mean     -29.787050  2011-06-26 07:06:45.231866880     48.570430   \n",
       "min   -80995.000000            2010-12-01 09:41:00      0.010000   \n",
       "25%       -6.000000            2011-03-21 16:26:00      1.450000   \n",
       "50%       -2.000000            2011-07-08 13:04:00      2.950000   \n",
       "75%       -1.000000            2011-10-06 20:36:00      5.950000   \n",
       "max       -1.000000            2011-12-09 11:58:00  38970.000000   \n",
       "std     1147.997592                            NaN    667.926393   \n",
       "\n",
       "         CustomerID  InvoiceMonth  InvoiceYear  \n",
       "count   8872.000000   9251.000000  9251.000000  \n",
       "mean   14990.152953      7.278240  2010.922279  \n",
       "min    12346.000000      1.000000  2010.000000  \n",
       "25%    13505.000000      4.000000  2011.000000  \n",
       "50%    14868.000000      8.000000  2011.000000  \n",
       "75%    16393.000000     10.000000  2011.000000  \n",
       "max    18282.000000     12.000000  2011.000000  \n",
       "std     1708.230387      3.515522     0.267747  "
      ]
     },
     "execution_count": 17,
     "metadata": {},
     "output_type": "execute_result"
    }
   ],
   "source": [
    "# Create dataframe of all canceled invoices\n",
    "df_canceled_invoices = df[df['InvoiceNo'].str.startswith('C')]\n",
    "df_canceled_invoices.describe()"
   ]
  },
  {
   "cell_type": "code",
   "execution_count": 18,
   "id": "18d3e592",
   "metadata": {
    "execution": {
     "iopub.execute_input": "2023-11-10T23:01:00.253661Z",
     "iopub.status.busy": "2023-11-10T23:01:00.253261Z",
     "iopub.status.idle": "2023-11-10T23:01:00.370163Z",
     "shell.execute_reply": "2023-11-10T23:01:00.369341Z"
    },
    "papermill": {
     "duration": 0.131989,
     "end_time": "2023-11-10T23:01:00.372193",
     "exception": false,
     "start_time": "2023-11-10T23:01:00.240204",
     "status": "completed"
    },
    "tags": []
   },
   "outputs": [
    {
     "data": {
      "image/png": "[encoded data removed]",
      "text/plain": [
       "<Figure size 800x600 with 1 Axes>"
      ]
     },
     "metadata": {},
     "output_type": "display_data"
    }
   ],
   "source": [
    "# Find the countries of the canceled invoces\n",
    "# Count the occurrences of each country in the 'Country' column\n",
    "country_counts = df_canceled_invoices['Country'].value_counts()\n",
    "\n",
    "# Separate UK from other countries\n",
    "uk_count = country_counts['United Kingdom']\n",
    "other_countries_count = country_counts.drop('United Kingdom').sum()\n",
    "\n",
    "# Create a new DataFrame with UK and Other\n",
    "countries = ['United Kingdom', 'Other']\n",
    "counts = [uk_count, other_countries_count]\n",
    "\n",
    "# Plotting a pie chart for UK and Other countries\n",
    "plt.figure(figsize=(8, 6))\n",
    "plt.pie(counts, labels=countries, autopct='%1.1f%%')\n",
    "plt.title('Distribution of Canceled Invoices')\n",
    "plt.show()"
   ]
  },
  {
   "cell_type": "code",
   "execution_count": 19,
   "id": "dde8c683",
   "metadata": {
    "execution": {
     "iopub.execute_input": "2023-11-10T23:01:00.408164Z",
     "iopub.status.busy": "2023-11-10T23:01:00.407577Z",
     "iopub.status.idle": "2023-11-10T23:01:00.449332Z",
     "shell.execute_reply": "2023-11-10T23:01:00.448227Z"
    },
    "papermill": {
     "duration": 0.063129,
     "end_time": "2023-11-10T23:01:00.451725",
     "exception": false,
     "start_time": "2023-11-10T23:01:00.388596",
     "status": "completed"
    },
    "tags": []
   },
   "outputs": [
    {
     "data": {
      "text/plain": [
       "['Lithuania',\n",
       " 'Iceland',\n",
       " 'Lebanon',\n",
       " 'United Arab Emirates',\n",
       " 'Canada',\n",
       " 'Unspecified',\n",
       " 'Brazil',\n",
       " 'RSA']"
      ]
     },
     "execution_count": 19,
     "metadata": {},
     "output_type": "execute_result"
    }
   ],
   "source": [
    "all_countries = df['Country'].unique()\n",
    "canceled_countries = df_canceled_invoices['Country'].unique()\n",
    "\n",
    "countries_without_canceled_invoices = [country for country in all_countries if country not in canceled_countries]\n",
    "countries_without_canceled_invoices"
   ]
  },
  {
   "cell_type": "code",
   "execution_count": 20,
   "id": "9fcef3bd",
   "metadata": {
    "execution": {
     "iopub.execute_input": "2023-11-10T23:01:00.478624Z",
     "iopub.status.busy": "2023-11-10T23:01:00.478215Z",
     "iopub.status.idle": "2023-11-10T23:01:00.888524Z",
     "shell.execute_reply": "2023-11-10T23:01:00.886715Z"
    },
    "papermill": {
     "duration": 0.427568,
     "end_time": "2023-11-10T23:01:00.891628",
     "exception": false,
     "start_time": "2023-11-10T23:01:00.464060",
     "status": "completed"
    },
    "tags": []
   },
   "outputs": [
    {
     "data": {
      "image/png": "[encoded data removed]",
      "text/plain": [
       "<Figure size 1000x800 with 1 Axes>"
      ]
     },
     "metadata": {},
     "output_type": "display_data"
    }
   ],
   "source": [
    "# Exclude 'United Kingdom' and count occurrences of each country\n",
    "country_counts = df_canceled_invoices[df_canceled_invoices['Country'] != 'United Kingdom']['Country'].value_counts()\n",
    "\n",
    "# Sort the values from the most to the least frequent\n",
    "country_counts = country_counts.sort_values(ascending=True)\n",
    "\n",
    "# Create a horizontal bar plot\n",
    "country_counts.plot(kind='barh', figsize=(10, 8), color='skyblue')\n",
    "plt.title('Frequency of Canceled Invoices by Country (Excluding UK)')\n",
    "plt.xlabel('Number of Transactions')\n",
    "plt.ylabel('Country')\n",
    "plt.show()"
   ]
  },
  {
   "cell_type": "markdown",
   "id": "58ef252e",
   "metadata": {
    "papermill": {
     "duration": 0.012663,
     "end_time": "2023-11-10T23:01:00.917396",
     "exception": false,
     "start_time": "2023-11-10T23:01:00.904733",
     "status": "completed"
    },
    "tags": []
   },
   "source": [
    "The analysis of canceled invoices highlights the top countries impacted by cancellations. The United Kingdom stands out with the most canceled transactions at 7821, significantly higher than other nations in the dataset. Germany, EIRE, France, and the USA follow as the subsequent countries affected by cancellations, with 453, 301, 148, and 112 instances, respectively. Notably, several countries, including Lithuania, Iceland, Lebanon, the United Arab Emirates, Canada, Unspecified, Brazil, and RSA, notably had no recorded canceled invoices within this dataset. This insight provides a clear understanding of the geographic distribution of the cancellation trend, emphasizing the need for a closer examination of the factors contributing to cancellation disparities across different regions."
   ]
  },
  {
   "cell_type": "code",
   "execution_count": 21,
   "id": "7b71600b",
   "metadata": {
    "execution": {
     "iopub.execute_input": "2023-11-10T23:01:00.945262Z",
     "iopub.status.busy": "2023-11-10T23:01:00.944651Z",
     "iopub.status.idle": "2023-11-10T23:01:01.191645Z",
     "shell.execute_reply": "2023-11-10T23:01:01.190360Z"
    },
    "papermill": {
     "duration": 0.263724,
     "end_time": "2023-11-10T23:01:01.194123",
     "exception": false,
     "start_time": "2023-11-10T23:01:00.930399",
     "status": "completed"
    },
    "tags": []
   },
   "outputs": [
    {
     "data": {
      "image/png": "[encoded data removed]",
      "text/plain": [
       "<Figure size 1000x800 with 1 Axes>"
      ]
     },
     "metadata": {},
     "output_type": "display_data"
    }
   ],
   "source": [
    "top_10_canceled_desc = df_canceled_invoices['Description'].value_counts().head(10)\n",
    "\n",
    "top_10_canceled_desc = top_10_canceled_desc.sort_values(ascending=True)\n",
    "top_10_canceled_desc.plot(kind='barh', figsize=(10, 8), color='skyblue')\n",
    "plt.title('Top 10 Most Canceled Invoices Description')\n",
    "plt.xlabel('Number of Canceled Invoices')\n",
    "plt.ylabel('Description')\n",
    "plt.show()"
   ]
  },
  {
   "cell_type": "markdown",
   "id": "f0a3c877",
   "metadata": {
    "papermill": {
     "duration": 0.013067,
     "end_time": "2023-11-10T23:01:01.220763",
     "exception": false,
     "start_time": "2023-11-10T23:01:01.207696",
     "status": "completed"
    },
    "tags": []
   },
   "source": [
    "The data reveals the top 10 descriptions associated with canceled invoices, indicating the most prevalent items subject to cancellations. Notably, \"Manual\" appears as the most frequently canceled item, occurring in 244 instances, followed by \"REGENCY CAKESTAND 3 TIER\" with 180 cancellations. \"POSTAGE\" and \"JAM MAKING SET WITH JARS\" stand out with 126 and 87 instances, respectively. Additionally, \"Discount,\" \"SET OF 3 CAKE TINS PANTRY DESIGN,\" \"SAMPLES,\" \"ROSES REGENCY TEACUP AND SAUCER,\" \"STRAWBERRY CERAMIC TRINKET BOX,\" and \"RECIPE BOX PANTRY YELLOW DESIGN\" contribute significantly to the list of the most canceled products. This insight can guide businesses in understanding the types of items more susceptible to cancellation, prompting further investigation into the reasons behind these trends and the underlying causes of customer dissatisfaction or operational issues."
   ]
  },
  {
   "cell_type": "code",
   "execution_count": 22,
   "id": "ce1cdf0c",
   "metadata": {
    "execution": {
     "iopub.execute_input": "2023-11-10T23:01:01.250929Z",
     "iopub.status.busy": "2023-11-10T23:01:01.250340Z",
     "iopub.status.idle": "2023-11-10T23:01:01.531357Z",
     "shell.execute_reply": "2023-11-10T23:01:01.530295Z"
    },
    "papermill": {
     "duration": 0.298974,
     "end_time": "2023-11-10T23:01:01.533907",
     "exception": false,
     "start_time": "2023-11-10T23:01:01.234933",
     "status": "completed"
    },
    "tags": []
   },
   "outputs": [
    {
     "data": {
      "text/html": [
       "<div>\n",
       "<style scoped>\n",
       "    .dataframe tbody tr th:only-of-type {\n",
       "        vertical-align: middle;\n",
       "    }\n",
       "\n",
       "    .dataframe tbody tr th {\n",
       "        vertical-align: top;\n",
       "    }\n",
       "\n",
       "    .dataframe thead th {\n",
       "        text-align: right;\n",
       "    }\n",
       "</style>\n",
       "<table border=\"1\" class=\"dataframe\">\n",
       "  <thead>\n",
       "    <tr style=\"text-align: right;\">\n",
       "      <th></th>\n",
       "      <th>Quantity</th>\n",
       "      <th>InvoiceDate</th>\n",
       "      <th>UnitPrice</th>\n",
       "      <th>CustomerID</th>\n",
       "      <th>InvoiceMonth</th>\n",
       "      <th>InvoiceYear</th>\n",
       "    </tr>\n",
       "  </thead>\n",
       "  <tbody>\n",
       "    <tr>\n",
       "      <th>count</th>\n",
       "      <td>527390.000000</td>\n",
       "      <td>527390</td>\n",
       "      <td>527390.000000</td>\n",
       "      <td>392732.000000</td>\n",
       "      <td>527390.000000</td>\n",
       "      <td>527390.000000</td>\n",
       "    </tr>\n",
       "    <tr>\n",
       "      <th>mean</th>\n",
       "      <td>10.311272</td>\n",
       "      <td>2011-07-04 12:21:06.631866112</td>\n",
       "      <td>3.945839</td>\n",
       "      <td>15287.734822</td>\n",
       "      <td>7.549497</td>\n",
       "      <td>2010.921762</td>\n",
       "    </tr>\n",
       "    <tr>\n",
       "      <th>min</th>\n",
       "      <td>-9600.000000</td>\n",
       "      <td>2010-12-01 08:26:00</td>\n",
       "      <td>0.000000</td>\n",
       "      <td>12346.000000</td>\n",
       "      <td>1.000000</td>\n",
       "      <td>2010.000000</td>\n",
       "    </tr>\n",
       "    <tr>\n",
       "      <th>25%</th>\n",
       "      <td>1.000000</td>\n",
       "      <td>2011-03-28 11:49:00</td>\n",
       "      <td>1.250000</td>\n",
       "      <td>13955.000000</td>\n",
       "      <td>5.000000</td>\n",
       "      <td>2011.000000</td>\n",
       "    </tr>\n",
       "    <tr>\n",
       "      <th>50%</th>\n",
       "      <td>3.000000</td>\n",
       "      <td>2011-07-19 15:55:00</td>\n",
       "      <td>2.080000</td>\n",
       "      <td>15150.000000</td>\n",
       "      <td>8.000000</td>\n",
       "      <td>2011.000000</td>\n",
       "    </tr>\n",
       "    <tr>\n",
       "      <th>75%</th>\n",
       "      <td>11.000000</td>\n",
       "      <td>2011-10-19 10:56:00</td>\n",
       "      <td>4.130000</td>\n",
       "      <td>16791.000000</td>\n",
       "      <td>11.000000</td>\n",
       "      <td>2011.000000</td>\n",
       "    </tr>\n",
       "    <tr>\n",
       "      <th>max</th>\n",
       "      <td>80995.000000</td>\n",
       "      <td>2011-12-09 12:50:00</td>\n",
       "      <td>13541.330000</td>\n",
       "      <td>18287.000000</td>\n",
       "      <td>12.000000</td>\n",
       "      <td>2011.000000</td>\n",
       "    </tr>\n",
       "    <tr>\n",
       "      <th>std</th>\n",
       "      <td>160.367285</td>\n",
       "      <td>NaN</td>\n",
       "      <td>41.955953</td>\n",
       "      <td>1713.567773</td>\n",
       "      <td>3.508399</td>\n",
       "      <td>0.268546</td>\n",
       "    </tr>\n",
       "  </tbody>\n",
       "</table>\n",
       "</div>"
      ],
      "text/plain": [
       "            Quantity                    InvoiceDate      UnitPrice  \\\n",
       "count  527390.000000                         527390  527390.000000   \n",
       "mean       10.311272  2011-07-04 12:21:06.631866112       3.945839   \n",
       "min     -9600.000000            2010-12-01 08:26:00       0.000000   \n",
       "25%         1.000000            2011-03-28 11:49:00       1.250000   \n",
       "50%         3.000000            2011-07-19 15:55:00       2.080000   \n",
       "75%        11.000000            2011-10-19 10:56:00       4.130000   \n",
       "max     80995.000000            2011-12-09 12:50:00   13541.330000   \n",
       "std       160.367285                            NaN      41.955953   \n",
       "\n",
       "          CustomerID   InvoiceMonth    InvoiceYear  \n",
       "count  392732.000000  527390.000000  527390.000000  \n",
       "mean    15287.734822       7.549497    2010.921762  \n",
       "min     12346.000000       1.000000    2010.000000  \n",
       "25%     13955.000000       5.000000    2011.000000  \n",
       "50%     15150.000000       8.000000    2011.000000  \n",
       "75%     16791.000000      11.000000    2011.000000  \n",
       "max     18287.000000      12.000000    2011.000000  \n",
       "std      1713.567773       3.508399       0.268546  "
      ]
     },
     "execution_count": 22,
     "metadata": {},
     "output_type": "execute_result"
    }
   ],
   "source": [
    "# Create dataframe of all non-canceled invoices\n",
    "df_non_canceled_invoices = df[~df['InvoiceNo'].str.startswith('C')]\n",
    "df_non_canceled_invoices.describe()"
   ]
  },
  {
   "cell_type": "code",
   "execution_count": 23,
   "id": "74b5f671",
   "metadata": {
    "execution": {
     "iopub.execute_input": "2023-11-10T23:01:01.562840Z",
     "iopub.status.busy": "2023-11-10T23:01:01.562469Z",
     "iopub.status.idle": "2023-11-10T23:01:01.574638Z",
     "shell.execute_reply": "2023-11-10T23:01:01.573352Z"
    },
    "papermill": {
     "duration": 0.029174,
     "end_time": "2023-11-10T23:01:01.576834",
     "exception": false,
     "start_time": "2023-11-10T23:01:01.547660",
     "status": "completed"
    },
    "tags": []
   },
   "outputs": [
    {
     "data": {
      "text/plain": [
       "InvoiceNo       1336\n",
       "StockCode       1082\n",
       "Description      783\n",
       "Quantity         298\n",
       "InvoiceDate     1114\n",
       "UnitPrice          1\n",
       "CustomerID         0\n",
       "Country            1\n",
       "InvoiceMonth      12\n",
       "InvoiceYear        2\n",
       "dtype: int64"
      ]
     },
     "execution_count": 23,
     "metadata": {},
     "output_type": "execute_result"
    }
   ],
   "source": [
    "df_non_canceled_invoices[df_non_canceled_invoices['Quantity'] < 0].nunique()"
   ]
  },
  {
   "cell_type": "code",
   "execution_count": 24,
   "id": "71792bc8",
   "metadata": {
    "execution": {
     "iopub.execute_input": "2023-11-10T23:01:01.606561Z",
     "iopub.status.busy": "2023-11-10T23:01:01.606173Z",
     "iopub.status.idle": "2023-11-10T23:01:01.615208Z",
     "shell.execute_reply": "2023-11-10T23:01:01.614267Z"
    },
    "papermill": {
     "duration": 0.026242,
     "end_time": "2023-11-10T23:01:01.617163",
     "exception": false,
     "start_time": "2023-11-10T23:01:01.590921",
     "status": "completed"
    },
    "tags": []
   },
   "outputs": [
    {
     "data": {
      "text/plain": [
       "array([0.])"
      ]
     },
     "execution_count": 24,
     "metadata": {},
     "output_type": "execute_result"
    }
   ],
   "source": [
    "df_non_canceled_invoices[df_non_canceled_invoices['Quantity'] < 0]['UnitPrice'].unique()"
   ]
  },
  {
   "cell_type": "code",
   "execution_count": 25,
   "id": "f2842aa2",
   "metadata": {
    "execution": {
     "iopub.execute_input": "2023-11-10T23:01:01.648285Z",
     "iopub.status.busy": "2023-11-10T23:01:01.647345Z",
     "iopub.status.idle": "2023-11-10T23:01:01.656664Z",
     "shell.execute_reply": "2023-11-10T23:01:01.655405Z"
    },
    "papermill": {
     "duration": 0.027299,
     "end_time": "2023-11-10T23:01:01.658590",
     "exception": false,
     "start_time": "2023-11-10T23:01:01.631291",
     "status": "completed"
    },
    "tags": []
   },
   "outputs": [
    {
     "data": {
      "text/plain": [
       "array(['United Kingdom'], dtype=object)"
      ]
     },
     "execution_count": 25,
     "metadata": {},
     "output_type": "execute_result"
    }
   ],
   "source": [
    "df_non_canceled_invoices[df_non_canceled_invoices['Quantity'] < 0]['Country'].unique()"
   ]
  },
  {
   "cell_type": "markdown",
   "id": "a124b59f",
   "metadata": {
    "papermill": {
     "duration": 0.013685,
     "end_time": "2023-11-10T23:01:01.686282",
     "exception": false,
     "start_time": "2023-11-10T23:01:01.672597",
     "status": "completed"
    },
    "tags": []
   },
   "source": [
    "In reviewing the dataset, it was noted that out of 532,621 non-canceled invoices, 1336 invoices exhibited negative quantity values. These anomalies are observed within transactions specific to the United Kingdom and a unit price of 0 sterling. Further investigation is required to understand the source and nature of these transactions. Initial insights suggest potential anomalies within the data or underlying business operations.\n",
    "\n",
    "The discrepancies in the dataset are observed within a subset of transactions originating from the United Kingdom and reflecting a unit price of 0 sterling. The occurrences of negative quantity values within non-canceled invoices warrant thorough investigation. It is essential to determine whether these entries are indicative of data errors, accounting for particular types of transactions such as samples, freebies, adjustments, or internal transfers.\n",
    "\n",
    "Recommended Actions:\n",
    "1. Data Verification: Validate the accuracy and integrity of these specific transactions to identify any potential data entry errors or anomalies within the dataset.\n",
    "2. Business Context Analysis: Gain a comprehensive understanding of the operations and transactions specific to the UK market. Determine if zero-priced items signify particular business operations, such as samples, adjustments, or other non-standard transactions leading to negative quantities.\n",
    "3. Collaboration and Consultation: Engage with the personnel directly involved in handling transactions within the UK. This includes discussing the specific entries with zero pricing to comprehend their nature, origin, and potential impact on the dataset."
   ]
  },
  {
   "cell_type": "markdown",
   "id": "d6530cbb",
   "metadata": {
    "papermill": {
     "duration": 0.013477,
     "end_time": "2023-11-10T23:01:01.714008",
     "exception": false,
     "start_time": "2023-11-10T23:01:01.700531",
     "status": "completed"
    },
    "tags": []
   },
   "source": [
    "## Country Distribution"
   ]
  },
  {
   "cell_type": "code",
   "execution_count": 26,
   "id": "f469bf86",
   "metadata": {
    "execution": {
     "iopub.execute_input": "2023-11-10T23:01:01.744363Z",
     "iopub.status.busy": "2023-11-10T23:01:01.743769Z",
     "iopub.status.idle": "2023-11-10T23:01:01.779288Z",
     "shell.execute_reply": "2023-11-10T23:01:01.777524Z"
    },
    "papermill": {
     "duration": 0.053611,
     "end_time": "2023-11-10T23:01:01.781865",
     "exception": false,
     "start_time": "2023-11-10T23:01:01.728254",
     "status": "completed"
    },
    "tags": []
   },
   "outputs": [
    {
     "name": "stdout",
     "output_type": "stream",
     "text": [
      "Total unique country: 38\n"
     ]
    }
   ],
   "source": [
    "# The number of unique country\n",
    "print('Total unique country:', df['Country'].nunique())"
   ]
  },
  {
   "cell_type": "code",
   "execution_count": 27,
   "id": "146f5633",
   "metadata": {
    "execution": {
     "iopub.execute_input": "2023-11-10T23:01:01.812732Z",
     "iopub.status.busy": "2023-11-10T23:01:01.812262Z",
     "iopub.status.idle": "2023-11-10T23:01:01.848591Z",
     "shell.execute_reply": "2023-11-10T23:01:01.846795Z"
    },
    "papermill": {
     "duration": 0.055032,
     "end_time": "2023-11-10T23:01:01.851562",
     "exception": false,
     "start_time": "2023-11-10T23:01:01.796530",
     "status": "completed"
    },
    "tags": []
   },
   "outputs": [
    {
     "data": {
      "text/plain": [
       "Country\n",
       "United Kingdom          490300\n",
       "Germany                   9480\n",
       "France                    8541\n",
       "EIRE                      8184\n",
       "Spain                     2528\n",
       "Netherlands               2371\n",
       "Belgium                   2069\n",
       "Switzerland               1994\n",
       "Portugal                  1510\n",
       "Australia                 1258\n",
       "Norway                    1086\n",
       "Italy                      803\n",
       "Channel Islands            757\n",
       "Finland                    695\n",
       "Cyprus                     611\n",
       "Sweden                     461\n",
       "Unspecified                442\n",
       "Austria                    401\n",
       "Denmark                    389\n",
       "Japan                      358\n",
       "Poland                     341\n",
       "Israel                     294\n",
       "USA                        291\n",
       "Hong Kong                  284\n",
       "Singapore                  229\n",
       "Iceland                    182\n",
       "Canada                     151\n",
       "Greece                     146\n",
       "Malta                      127\n",
       "United Arab Emirates        68\n",
       "European Community          61\n",
       "RSA                         58\n",
       "Lebanon                     45\n",
       "Lithuania                   35\n",
       "Brazil                      32\n",
       "Czech Republic              30\n",
       "Bahrain                     19\n",
       "Saudi Arabia                10\n",
       "Name: count, dtype: int64"
      ]
     },
     "execution_count": 27,
     "metadata": {},
     "output_type": "execute_result"
    }
   ],
   "source": [
    "# Total invoices from all listed country\n",
    "df['Country'].value_counts()"
   ]
  },
  {
   "cell_type": "code",
   "execution_count": 28,
   "id": "996f8e55",
   "metadata": {
    "execution": {
     "iopub.execute_input": "2023-11-10T23:01:01.882085Z",
     "iopub.status.busy": "2023-11-10T23:01:01.881730Z",
     "iopub.status.idle": "2023-11-10T23:01:02.023571Z",
     "shell.execute_reply": "2023-11-10T23:01:02.022025Z"
    },
    "papermill": {
     "duration": 0.160632,
     "end_time": "2023-11-10T23:01:02.026539",
     "exception": false,
     "start_time": "2023-11-10T23:01:01.865907",
     "status": "completed"
    },
    "tags": []
   },
   "outputs": [
    {
     "data": {
      "image/png": "[encoded data removed]",
      "text/plain": [
       "<Figure size 800x600 with 1 Axes>"
      ]
     },
     "metadata": {},
     "output_type": "display_data"
    }
   ],
   "source": [
    "# Count the occurrences of each country in the 'Country' column\n",
    "country_counts = df['Country'].value_counts()\n",
    "\n",
    "# Separate UK from other countries\n",
    "uk_count = country_counts['United Kingdom']\n",
    "other_countries_count = country_counts.drop('United Kingdom').sum()\n",
    "\n",
    "# Create a new DataFrame with UK and Other\n",
    "countries = ['United Kingdom', 'Other']\n",
    "counts = [uk_count, other_countries_count]\n",
    "\n",
    "# Plotting a pie chart for UK and Other countries\n",
    "plt.figure(figsize=(8, 6))\n",
    "plt.pie(counts, labels=countries, autopct='%1.1f%%')\n",
    "plt.title('Distribution of United Kingdom and Other Countries')\n",
    "plt.show()"
   ]
  },
  {
   "cell_type": "code",
   "execution_count": 29,
   "id": "bd6f2ea4",
   "metadata": {
    "execution": {
     "iopub.execute_input": "2023-11-10T23:01:02.069427Z",
     "iopub.status.busy": "2023-11-10T23:01:02.068287Z",
     "iopub.status.idle": "2023-11-10T23:01:02.579223Z",
     "shell.execute_reply": "2023-11-10T23:01:02.577668Z"
    },
    "papermill": {
     "duration": 0.535961,
     "end_time": "2023-11-10T23:01:02.582022",
     "exception": false,
     "start_time": "2023-11-10T23:01:02.046061",
     "status": "completed"
    },
    "tags": []
   },
   "outputs": [
    {
     "data": {
      "image/png": "[encoded data removed]",
      "text/plain": [
       "<Figure size 1000x800 with 1 Axes>"
      ]
     },
     "metadata": {},
     "output_type": "display_data"
    }
   ],
   "source": [
    "# Exclude 'United Kingdom' and count occurrences of each country\n",
    "country_counts = df[df['Country'] != 'United Kingdom']['Country'].value_counts()\n",
    "\n",
    "# Sort the values from the most to the least frequent\n",
    "country_counts = country_counts.sort_values(ascending=True)\n",
    "\n",
    "# Create a horizontal bar plot\n",
    "country_counts.plot(kind='barh', figsize=(10, 8), color='skyblue')\n",
    "plt.title('Frequency of Transactions by Country (Excluding UK)')\n",
    "plt.xlabel('Number of Transactions')\n",
    "plt.ylabel('Country')\n",
    "plt.show()"
   ]
  },
  {
   "cell_type": "markdown",
   "id": "d27aeee2",
   "metadata": {
    "papermill": {
     "duration": 0.015191,
     "end_time": "2023-11-10T23:01:02.612787",
     "exception": false,
     "start_time": "2023-11-10T23:01:02.597596",
     "status": "completed"
    },
    "tags": []
   },
   "source": [
    "The data provides a clear distribution of sales across various countries, with the United Kingdom representing the primary market, accounting for 490,300 transactions (91.4%). Germany and France follow, with 9,480 (1.8%) and 8,541 (1.6%) transactions, respectively. It’s evident that a significant portion of sales is concentrated in a few key countries, with others having notably fewer transactions. This distribution insight can be crucial for strategic decision-making, indicating the primary market and potential areas for business expansion or targeted marketing efforts.\n",
    "\n",
    "The report underscores the dominance of the United Kingdom in sales, highlighting its substantial lead compared to other countries. Moreover, the prevalence of sales in a select few countries and the relatively low transaction volumes in other regions can prompt businesses to consider diversification strategies or concentrate efforts where the market is most active. Understanding the unique market dynamics within each country can aid in tailoring marketing strategies, product offerings, and customer service to better resonate with diverse customer segments across various regions, ultimately optimizing sales and customer satisfaction."
   ]
  },
  {
   "cell_type": "markdown",
   "id": "dd7e621c",
   "metadata": {
    "papermill": {
     "duration": 0.015109,
     "end_time": "2023-11-10T23:01:02.643233",
     "exception": false,
     "start_time": "2023-11-10T23:01:02.628124",
     "status": "completed"
    },
    "tags": []
   },
   "source": [
    "## Invoice Traffic"
   ]
  },
  {
   "cell_type": "code",
   "execution_count": 30,
   "id": "81f1e0e0",
   "metadata": {
    "execution": {
     "iopub.execute_input": "2023-11-10T23:01:02.676770Z",
     "iopub.status.busy": "2023-11-10T23:01:02.676384Z",
     "iopub.status.idle": "2023-11-10T23:01:02.959130Z",
     "shell.execute_reply": "2023-11-10T23:01:02.958007Z"
    },
    "papermill": {
     "duration": 0.302285,
     "end_time": "2023-11-10T23:01:02.961689",
     "exception": false,
     "start_time": "2023-11-10T23:01:02.659404",
     "status": "completed"
    },
    "tags": []
   },
   "outputs": [
    {
     "data": {
      "image/png": "[encoded data removed]",
      "text/plain": [
       "<Figure size 1000x600 with 1 Axes>"
      ]
     },
     "metadata": {},
     "output_type": "display_data"
    }
   ],
   "source": [
    "# Plotting the traffic of invoices per month over the years\n",
    "plt.figure(figsize=(10, 6))\n",
    "df.groupby(['InvoiceYear', 'InvoiceMonth']).size().plot(kind='bar')\n",
    "plt.title('Invoices Traffic per Month Over the Years')\n",
    "plt.xlabel('Year-Month')\n",
    "plt.ylabel('Number of Invoices')\n",
    "plt.xticks(rotation=45)\n",
    "plt.show()"
   ]
  },
  {
   "cell_type": "markdown",
   "id": "4289da90",
   "metadata": {
    "papermill": {
     "duration": 0.015601,
     "end_time": "2023-11-10T23:01:02.993414",
     "exception": false,
     "start_time": "2023-11-10T23:01:02.977813",
     "status": "completed"
    },
    "tags": []
   },
   "source": [
    "The graph, displaying the monthly distribution of invoices between December 2010 and December 2011, showcases an overall ascending trend. Notably, the culmination occurs in November 2011, marking the peak of invoice generation within this timeframe. However, a substantial decline is observed in the subsequent month, which could potentially indicate a significant drop in sales or transactions. The sudden decrease in December 2011 following the peak in November may signify a considerable shift in business activity, possibly influenced by seasonal trends, market factors, internal operational changes during this period, or because the dataset's cutoff date, reaching the endpoint of the available information."
   ]
  },
  {
   "cell_type": "code",
   "execution_count": 31,
   "id": "a2eceb31",
   "metadata": {
    "execution": {
     "iopub.execute_input": "2023-11-10T23:01:03.028209Z",
     "iopub.status.busy": "2023-11-10T23:01:03.027790Z",
     "iopub.status.idle": "2023-11-10T23:01:03.284730Z",
     "shell.execute_reply": "2023-11-10T23:01:03.283791Z"
    },
    "papermill": {
     "duration": 0.278171,
     "end_time": "2023-11-10T23:01:03.287419",
     "exception": false,
     "start_time": "2023-11-10T23:01:03.009248",
     "status": "completed"
    },
    "tags": []
   },
   "outputs": [
    {
     "data": {
      "image/png": "[encoded data removed]",
      "text/plain": [
       "<Figure size 1000x600 with 1 Axes>"
      ]
     },
     "metadata": {},
     "output_type": "display_data"
    }
   ],
   "source": [
    "# Plotting the traffic of invoices per month over the years\n",
    "plt.figure(figsize=(10, 6))\n",
    "df_canceled_invoices.groupby(['InvoiceYear', 'InvoiceMonth']).size().plot(kind='bar')\n",
    "plt.title('Canceled Invoices Traffic per Month Over the Years')\n",
    "plt.xlabel('Year-Month')\n",
    "plt.ylabel('Number of Invoices')\n",
    "plt.xticks(rotation=45)\n",
    "plt.show()"
   ]
  },
  {
   "cell_type": "markdown",
   "id": "12919b48",
   "metadata": {
    "papermill": {
     "duration": 0.017049,
     "end_time": "2023-11-10T23:01:03.320845",
     "exception": false,
     "start_time": "2023-11-10T23:01:03.303796",
     "status": "completed"
    },
    "tags": []
   },
   "source": [
    "The graph shows the ebb and flow of canceled invoices throughout the dataset's timeline. Until September 2011, the number of canceled invoices remained consistently below 800. The following month, however, there was a sharp spike, with cancellations nearly doubling, indicating a significant anomaly. November 2011 shows a slight decline from the peak. Most intriguing is the significant drop below 400 in December 2011, indicating a rapid decline. Further research into why this sudden spike occurred in October 2011 and the subsequent rapid decline in the last month is recommended. Understanding the reasons behind these abrupt fluctuations is crucial to deciphering any underlying trends or potential anomalies."
   ]
  },
  {
   "cell_type": "code",
   "execution_count": null,
   "id": "9375064d",
   "metadata": {
    "papermill": {
     "duration": 0.01563,
     "end_time": "2023-11-10T23:01:03.353518",
     "exception": false,
     "start_time": "2023-11-10T23:01:03.337888",
     "status": "completed"
    },
    "tags": []
   },
   "outputs": [],
   "source": []
  }
 ],
 "metadata": {
  "kernelspec": {
   "display_name": "Python 3",
   "language": "python",
   "name": "python3"
  },
  "language_info": {
   "codemirror_mode": {
    "name": "ipython",
    "version": 3
   },
   "file_extension": ".py",
   "mimetype": "text/x-python",
   "name": "python",
   "nbconvert_exporter": "python",
   "pygments_lexer": "ipython3",
   "version": "3.10.12"
  },
  "papermill": {
   "default_parameters": {},
   "duration": 20.975219,
   "end_time": "2023-11-10T23:01:03.888365",
   "environment_variables": {},
   "exception": null,
   "input_path": "__notebook__.ipynb",
   "output_path": "__notebook__.ipynb",
   "parameters": {},
   "start_time": "2023-11-10T23:00:42.913146",
   "version": "2.4.0"
  }
 },
 "nbformat": 4,
 "nbformat_minor": 5
}
